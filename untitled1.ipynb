{
 "cells": [
  {
   "cell_type": "code",
   "execution_count": 1,
   "metadata": {},
   "outputs": [],
   "source": [
    "import aligater as ag"
   ]
  },
  {
   "cell_type": "code",
   "execution_count": 5,
   "metadata": {},
   "outputs": [],
   "source": [
    "missingDF=ag.pd.read_csv(\"/media/ludvig/Project_Storage/GAIM/scripts/missing_GAIM_ID.txt\",delimiter='\\t',header=None)"
   ]
  },
  {
   "cell_type": "code",
   "execution_count": 7,
   "metadata": {},
   "outputs": [
    {
     "name": "stderr",
     "output_type": "stream",
     "text": [
      "Opening file B cells_E11_E11_049 from folder /26-02-2016/plate 1\n",
      "Loaded dataset with 27760 events.\n",
      "Marker labels: Sample has fewer events than cellFilter threshold, skippingOpening file B cells_D11_D11_043 from folder /26-02-2016/plate 2\n",
      "Loaded dataset with 1600 events.\n",
      "Marker labels: Sample has fewer events than cellFilter threshold, skippingOpening file B cells_002_G11_G11_091 from folder /24-11-2015/plate 1\n",
      "Loaded dataset with 500000 events.\n",
      "Marker labels: IgA CD27 CD34 CD19 IgD CD45 CD38 CD24 \n",
      "Opening file B cells_A5_A05_011 from folder /22-01-2016/plate 2\n",
      "Loaded dataset with 1520 events.\n",
      "Marker labels: Sample has fewer events than cellFilter threshold, skippingOpening file B cells_003_H11_H11_095 from folder /19-01-2016/plate 2\n",
      "Loaded dataset with 160080 events.\n",
      "Marker labels: IgA CD27 CD34 CD19 IgD CD45 CD38 CD24 \n",
      "Opening file B cells_H8_H08_014 from folder /13-11-2015/plate 3\n",
      "Loaded dataset with 3350 events.\n",
      "Marker labels: Sample has fewer events than cellFilter threshold, skippingOpening file B cells_H11_H11_096 from folder /11-03-2016/plate 1\n",
      "Loaded dataset with 500000 events.\n",
      "Marker labels: IgA CD27 CD34 CD19 IgD CD45 CD38 CD24 \n",
      "Opening file B cells_B5_B05_013 from folder /11-03-2016/plate 2\n",
      "Loaded dataset with 520 events.\n",
      "Marker labels: Sample has fewer events than cellFilter threshold, skippingOpening file B cells_A2_A02_013 from folder /09-11-2015/plate 1\n",
      "Loaded dataset with 279180 events.\n",
      "Marker labels: IgA CD27 CD34 CD19 IgD CD45 CD38 CD24 \n"
     ]
    }
   ],
   "source": [
    "for index,row in missingDF.iterrows():\n",
    "    date=str(row[0])\n",
    "    plate=str(row[1])\n",
    "    sample=str(row[2])\n",
    "    pathstr=\"/media/ludvig/Project_Storage/GAIM/data/GAIM_fcs/\"+date+\"/\"+plate+\"/\"+sample+\".fcs\"\n",
    "    fcsDF = ag.loadFCS(pathstr, compensate=True,markers=[\"IgA\", \"CD27\" ,\"CD34\" ,\"CD19\", \"IgD\" ,\"CD45\",\"CD38\",\"CD24\"])"
   ]
  }
 ],
 "metadata": {
  "kernelspec": {
   "display_name": "Python 3 (Spyder)",
   "language": "python3",
   "name": "python3"
  },
  "language_info": {
   "codemirror_mode": {
    "name": "ipython",
    "version": 3
   },
   "file_extension": ".py",
   "mimetype": "text/x-python",
   "name": "python",
   "nbconvert_exporter": "python",
   "pygments_lexer": "ipython3",
   "version": "3.6.3"
  }
 },
 "nbformat": 4,
 "nbformat_minor": 2
}
