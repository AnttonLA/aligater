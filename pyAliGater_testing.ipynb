{
 "cells": [
  {
   "cell_type": "code",
   "execution_count": null,
   "metadata": {},
   "outputs": [],
   "source": [
    "#Autoreload to be able to tweak source code in the fly without restarting kernel\n",
    "%load_ext autoreload"
   ]
  },
  {
   "cell_type": "code",
   "execution_count": null,
   "metadata": {},
   "outputs": [],
   "source": [
    "%autoreload 2"
   ]
  },
  {
   "cell_type": "code",
   "execution_count": 1,
   "metadata": {},
   "outputs": [],
   "source": [
    "import aligater as ag"
   ]
  },
  {
   "cell_type": "code",
   "execution_count": null,
   "metadata": {},
   "outputs": [],
   "source": [
    "fcsList=ag.collectFiles(\"/media/ludvig/Project_Storage/GAIM/data/GAIM_fcs/\", lFilter=[\"B cell\"])"
   ]
  },
  {
   "cell_type": "code",
   "execution_count": null,
   "metadata": {},
   "outputs": [],
   "source": [
    "fcsDF = ag.loadFCS(fcsList[1600], compensate=True)"
   ]
  },
  {
   "cell_type": "code",
   "execution_count": null,
   "metadata": {},
   "outputs": [],
   "source": [
    "no_clutter=ag.gateThreshold(fcsDF,\"FSC-A\", \"FSC-H\",thresh=260000, orientation='horisontal',population=\"lower\")"
   ]
  },
  {
   "cell_type": "code",
   "execution_count": null,
   "metadata": {},
   "outputs": [],
   "source": [
    "singlets=ag.gatePC(fcsDF,\"FSC-A\", \"FSC-H\",center='density',widthScale=4, heightScale=4, vI=no_clutter, plot=True)"
   ]
  },
  {
   "cell_type": "code",
   "execution_count": null,
   "metadata": {},
   "outputs": [],
   "source": [
    "PBMCstep1=ag.gateThreshold(fcsDF,xCol=\"FSC-A\",yCol=\"SSC-A\",orientation=\"vertical\",thresh=70000,population=\"lower\")"
   ]
  },
  {
   "cell_type": "code",
   "execution_count": null,
   "metadata": {},
   "outputs": [],
   "source": [
    "PBMC=ag.gatePC(fcsDF,\"FSC-A\",\"SSC-A\",center='centroid',widthScale=3, heightScale=2, vI=PBMCstep1, plot=True)"
   ]
  },
  {
   "cell_type": "code",
   "execution_count": null,
   "metadata": {},
   "outputs": [],
   "source": [
    "mean, sigma, maxVal=ag.axisStats(fcsDF, \"CD34\", PBMC)\n",
    "sigma*3"
   ]
  },
  {
   "cell_type": "code",
   "execution_count": null,
   "metadata": {},
   "outputs": [],
   "source": [
    "CD45step1 = ag.gateThreshold(fcsDF, \"CD34\", \"CD45\", orientation='horisontal', vI=PBMC,population=\"lower\",thresh=2*sigma, scale='logish')"
   ]
  },
  {
   "cell_type": "code",
   "execution_count": null,
   "metadata": {},
   "outputs": [],
   "source": [
    "lim = ag.valleySeek(fcsDF, \"CD45\",vI=CD45step1,interval=[0,2500],sigma=2,bins=1000)"
   ]
  },
  {
   "cell_type": "code",
   "execution_count": null,
   "metadata": {},
   "outputs": [],
   "source": [
    "CD45pos = ag.gateThreshold(fcsDF, \"CD34\", \"CD45\", vI=CD45step1, orientation='vertical',thresh=lim,scale='logish') "
   ]
  },
  {
   "cell_type": "code",
   "execution_count": null,
   "metadata": {},
   "outputs": [],
   "source": [
    "CD34step1=ag.gateThreshold(fcsDF, \"CD34\", \"CD45\", orientation='horisontal', vI=PBMC,population=\"upper\",thresh=(2*sigma), scale='logish')"
   ]
  },
  {
   "cell_type": "code",
   "execution_count": null,
   "metadata": {},
   "outputs": [],
   "source": [
    "ag.plot_densityFunc(fcsDF,\"CD45\", vI=CD34step1,sigma=2,bins=200)"
   ]
  },
  {
   "cell_type": "code",
   "execution_count": null,
   "metadata": {},
   "outputs": [],
   "source": [
    "lim=ag.valleySeek(fcsDF, \"CD45\",vI=CD34step1,interval=[500,2500],sigma=2,bins=200)\n",
    "lim"
   ]
  },
  {
   "cell_type": "code",
   "execution_count": null,
   "metadata": {},
   "outputs": [],
   "source": [
    "CD34pos=ag.gateThreshold(fcsDF, \"CD34\", \"CD45\", orientation='vertical', vI=CD34step1,population=\"lower\",thresh=lim, scale='logish')"
   ]
  },
  {
   "cell_type": "code",
   "execution_count": null,
   "metadata": {},
   "outputs": [],
   "source": [
    "ag.plotHeatmap(fcsDF, \"CD19\",\"CD45\",vI=CD45pos,scale='logish')"
   ]
  },
  {
   "cell_type": "code",
   "execution_count": null,
   "metadata": {},
   "outputs": [],
   "source": [
    "ag.plot_densityFunc(fcsDF,xCol=\"CD19\",vI=CD45pos, bins=1000, sigma=2, scale='logish')"
   ]
  },
  {
   "cell_type": "code",
   "execution_count": null,
   "metadata": {},
   "outputs": [],
   "source": [
    "lim=ag.valleySeek(fcsDF,xCol=\"CD19\",vI=CD45pos,interval=[0,2000],bins=1000,sigma=2, scale='logish')"
   ]
  },
  {
   "cell_type": "code",
   "execution_count": null,
   "metadata": {},
   "outputs": [],
   "source": [
    "lim"
   ]
  },
  {
   "cell_type": "code",
   "execution_count": null,
   "metadata": {},
   "outputs": [],
   "source": [
    "CD19pos=ag.gateThreshold(fcsDF,\"CD19\",\"CD45\",vI=CD45pos,thresh=lim,scale='logish',orientation='horisontal',population='upper')"
   ]
  },
  {
   "cell_type": "code",
   "execution_count": null,
   "metadata": {},
   "outputs": [],
   "source": [
    "ag.plotHeatmap(fcsDF, \"IgD\", \"CD27\", vI=CD19pos,scale=\"logish\",bins=300)"
   ]
  },
  {
   "cell_type": "code",
   "execution_count": null,
   "metadata": {},
   "outputs": [],
   "source": [
    "ag.plot_densityFunc(fcsDF,\"IgD\", CD19pos,bins=300,sigma=2, scale='logish')"
   ]
  },
  {
   "cell_type": "code",
   "execution_count": null,
   "metadata": {},
   "outputs": [],
   "source": [
    "xlim=ag.valleySeek(fcsDF,\"IgD\", CD19pos, interval=[0,4000],bins=300,sigma=2, scale='logish')"
   ]
  },
  {
   "cell_type": "code",
   "execution_count": null,
   "metadata": {},
   "outputs": [],
   "source": [
    "ag.plot_densityFunc(fcsDF,\"CD27\", CD19pos,bins=500,sigma=1, scale='logish')"
   ]
  },
  {
   "cell_type": "code",
   "execution_count": null,
   "metadata": {},
   "outputs": [],
   "source": [
    "ylim=ag.valleySeek(fcsDF,\"CD27\", CD19pos, interval=[0,4000],bins=300,sigma=2, scale='logish')"
   ]
  },
  {
   "cell_type": "code",
   "execution_count": null,
   "metadata": {
    "scrolled": true
   },
   "outputs": [],
   "source": [
    "switchB, preSwitchB, naiveB, exhaustedB = ag.quadGate(fcsDF,\"IgD\",\"CD27\",vI=CD19pos,xThresh=xlim,yThresh=ylim, scale='logish')"
   ]
  },
  {
   "cell_type": "code",
   "execution_count": null,
   "metadata": {},
   "outputs": [],
   "source": [
    "mean, sigma, maxVal = ag.axisStats(fcsDF, \"CD38\", vI=switchB)"
   ]
  },
  {
   "cell_type": "code",
   "execution_count": null,
   "metadata": {},
   "outputs": [],
   "source": [
    "ag.plot_densityFunc(fcsDF,\"CD38\",switchB,scale='logish',bins=300,sigma=2)"
   ]
  },
  {
   "cell_type": "code",
   "execution_count": null,
   "metadata": {},
   "outputs": [],
   "source": [
    "plasmablasts=ag.gateCorner(fcsDF, \"CD24\", \"CD38\",1000,mean+sigma,\"lower\",\"upper\", vI=switchB,scale='logish')"
   ]
  },
  {
   "cell_type": "code",
   "execution_count": null,
   "metadata": {},
   "outputs": [],
   "source": [
    "xmean,xsigma,xmaxVal = ag.axisStats(fcsDF,xCol=\"CD24\",vI=naiveB)"
   ]
  },
  {
   "cell_type": "code",
   "execution_count": null,
   "metadata": {},
   "outputs": [],
   "source": [
    "ymean,ysigma,ymaxVal = ag.axisStats(fcsDF,xCol=\"CD38\",vI=naiveB)"
   ]
  },
  {
   "cell_type": "code",
   "execution_count": null,
   "metadata": {
    "scrolled": true
   },
   "outputs": [],
   "source": [
    "transitionals=ag.gateCorner(fcsDF,\"CD24\", \"CD38\",xThresh = xmaxVal, yThresh=ymaxVal+2000, vI=naiveB, scale='logish')"
   ]
  },
  {
   "cell_type": "code",
   "execution_count": null,
   "metadata": {},
   "outputs": [],
   "source": [
    "lim = ag.valleySeek(fcsDF,\"IgA\",vI=switchB,interval=[750,2000],bins=300, sigma=0, scale='logish')\n",
    "lim"
   ]
  },
  {
   "cell_type": "code",
   "execution_count": null,
   "metadata": {},
   "outputs": [],
   "source": [
    "IgApos=ag.gateThreshold(fcsDF, \"IgA\",\"CD19\", vI=switchB, thresh=lim, scale='logish')"
   ]
  }
 ],
 "metadata": {
  "kernelspec": {
   "display_name": "Python 3 (Spyder)",
   "language": "python3",
   "name": "python3"
  },
  "language_info": {
   "codemirror_mode": {
    "name": "ipython",
    "version": 3
   },
   "file_extension": ".py",
   "mimetype": "text/x-python",
   "name": "python",
   "nbconvert_exporter": "python",
   "pygments_lexer": "ipython3",
   "version": "3.6.3"
  }
 },
 "nbformat": 4,
 "nbformat_minor": 2
}
