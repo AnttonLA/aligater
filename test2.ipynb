{
 "cells": [
  {
   "cell_type": "code",
   "execution_count": 44,
   "metadata": {},
   "outputs": [
    {
     "name": "stdout",
     "output_type": "stream",
     "text": [
      "The autoreload extension is already loaded. To reload it, use:\n",
      "  %reload_ext autoreload\n"
     ]
    }
   ],
   "source": [
    "%load_ext autoreload\n",
    "%autoreload 2"
   ]
  },
  {
   "cell_type": "code",
   "execution_count": 45,
   "metadata": {},
   "outputs": [],
   "source": [
    "import aligater as ag"
   ]
  },
  {
   "cell_type": "code",
   "execution_count": 46,
   "metadata": {},
   "outputs": [
    {
     "name": "stderr",
     "output_type": "stream",
     "text": [
      "Collected 3022 files, 6347 files did not pass filter(s) and mask(s)."
     ]
    }
   ],
   "source": [
    "fcsList=ag.collectFiles(\"/media/ludvig/Project_Storage/GAIM/data/GAIM_fcs/\", lFilter=[\"B cell\"])"
   ]
  },
  {
   "cell_type": "code",
   "execution_count": 47,
   "metadata": {},
   "outputs": [
    {
     "name": "stderr",
     "output_type": "stream",
     "text": [
      "Opening file B cells_A11_A11_033 from folder /01-03-2016/plate 1\n",
      "Loaded dataset with 500000 events.\n",
      "Marker labels: IgA CD27 CD34 CD19 IgD CD45 CD38 CD24 "
     ]
    }
   ],
   "source": [
    "fcsDF=ag.loadFCS(fcsList[0])"
   ]
  },
  {
   "cell_type": "code",
   "execution_count": 48,
   "metadata": {},
   "outputs": [],
   "source": [
    "fcs=ag.AGsample(fcsDF,fcsList[0])"
   ]
  },
  {
   "cell_type": "code",
   "execution_count": 49,
   "metadata": {},
   "outputs": [
    {
     "name": "stderr",
     "output_type": "stream",
     "text": [
      "After gating, 490615 out of 500000 events remain."
     ]
    }
   ],
   "source": [
    "no_clutter=ag.gateThreshold(fcsDF,\"FSC-A\", \"FSC-H\",thresh=260000, orientation='horisontal',population=\"lower\", plot=False)"
   ]
  },
  {
   "cell_type": "code",
   "execution_count": 50,
   "metadata": {},
   "outputs": [
    {
     "name": "stderr",
     "output_type": "stream",
     "text": [
      "After gating, 474524 out of 490615 events remain."
     ]
    }
   ],
   "source": [
    "singlets=ag.gatePC(fcsDF,\"FSC-A\", \"FSC-H\",center='density',widthScale=4, heightScale=4, vI=no_clutter, plot=False)"
   ]
  },
  {
   "cell_type": "code",
   "execution_count": 51,
   "metadata": {},
   "outputs": [],
   "source": [
    "singlets=ag.AGgate(singlets, fcsDF.index)"
   ]
  },
  {
   "cell_type": "code",
   "execution_count": 55,
   "metadata": {},
   "outputs": [
    {
     "data": {
      "text/plain": [
       "<aligater.AGClasses.AGgate at 0x7f25b7fba9b0>"
      ]
     },
     "execution_count": 55,
     "metadata": {},
     "output_type": "execute_result"
    }
   ],
   "source": [
    "singlets"
   ]
  },
  {
   "cell_type": "code",
   "execution_count": 63,
   "metadata": {},
   "outputs": [
    {
     "name": "stdout",
     "output_type": "stream",
     "text": [
      "<class 'type'>\n"
     ]
    },
    {
     "ename": "RuntimeError",
     "evalue": "No active exception to reraise",
     "output_type": "error",
     "traceback": [
      "Traceback \u001b[0;36m(most recent call last)\u001b[0m:\n",
      "  File \u001b[1;32m\"<ipython-input-63-96da49369eee>\"\u001b[0m, line \u001b[1;32m1\u001b[0m, in \u001b[1;35m<module>\u001b[0m\n    fcs.update(singlets,\"singlets\")\n",
      "\u001b[0;36m  File \u001b[0;32m\"/media/ludvig/Project_Storage/GAIM/aligater/aligater/AGClasses.py\"\u001b[0;36m, line \u001b[0;32m110\u001b[0;36m, in \u001b[0;35mupdate\u001b[0;36m\u001b[0m\n\u001b[0;31m    raise\u001b[0m\n",
      "\u001b[0;31mRuntimeError\u001b[0m\u001b[0;31m:\u001b[0m No active exception to reraise\n"
     ]
    }
   ],
   "source": [
    "fcs.update(singlets,\"singlets\")"
   ]
  },
  {
   "cell_type": "code",
   "execution_count": 53,
   "metadata": {
    "scrolled": false
   },
   "outputs": [
    {
     "name": "stderr",
     "output_type": "stream",
     "text": [
      "sample does not contain any gates"
     ]
    }
   ],
   "source": [
    "fcs()"
   ]
  }
 ],
 "metadata": {
  "kernelspec": {
   "display_name": "Python 3 (Spyder)",
   "language": "python3",
   "name": "python3"
  },
  "language_info": {
   "codemirror_mode": {
    "name": "ipython",
    "version": 3
   },
   "file_extension": ".py",
   "mimetype": "text/x-python",
   "name": "python",
   "nbconvert_exporter": "python",
   "pygments_lexer": "ipython3",
   "version": "3.6.3"
  }
 },
 "nbformat": 4,
 "nbformat_minor": 2
}
