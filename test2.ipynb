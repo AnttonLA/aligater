{
 "cells": [
  {
   "cell_type": "code",
   "execution_count": 1,
   "metadata": {},
   "outputs": [],
   "source": [
    "%load_ext autoreload\n",
    "%autoreload 2"
   ]
  },
  {
   "cell_type": "code",
   "execution_count": 2,
   "metadata": {},
   "outputs": [],
   "source": [
    "import aligater as ag"
   ]
  },
  {
   "cell_type": "code",
   "execution_count": 3,
   "metadata": {},
   "outputs": [
    {
     "name": "stderr",
     "output_type": "stream",
     "text": [
      "Collected 3022 files, 6347 files did not pass filter(s) and mask(s).\n"
     ]
    }
   ],
   "source": [
    "fcsList=ag.collectFiles(\"/media/ludvig/Project_Storage/GAIM/data/GAIM_fcs/\", lFilter=[\"B cell\"])"
   ]
  },
  {
   "cell_type": "code",
   "execution_count": 4,
   "metadata": {},
   "outputs": [
    {
     "name": "stderr",
     "output_type": "stream",
     "text": [
      "Opening file B cells_A11_A11_033 from folder /01-03-2016/plate 1\n",
      "Loaded dataset with 500000 events.\n",
      "Marker labels: IgA CD27 CD34 CD19 IgD CD45 CD38 CD24 \n"
     ]
    }
   ],
   "source": [
    "fcs=ag.loadFCS(fcsList[0], return_type='agsample')"
   ]
  },
  {
   "cell_type": "code",
   "execution_count": 5,
   "metadata": {},
   "outputs": [
    {
     "name": "stderr",
     "output_type": "stream",
     "text": [
      "After gating, 499919 out of 500000 events remain.\n"
     ]
    }
   ],
   "source": [
    "no_clutter=ag.gateThreshold(fcs(),\"FSC-A\", \"FSC-H\",thresh=260000, orientation='horisontal',population=\"lower\", plot=False)"
   ]
  },
  {
   "cell_type": "code",
   "execution_count": 6,
   "metadata": {},
   "outputs": [
    {
     "name": "stderr",
     "output_type": "stream",
     "text": [
      "After gating, 481258 out of 499919 events remain.\n"
     ]
    }
   ],
   "source": [
    "singlets=ag.gatePC(fcs(),\"FSC-A\", \"FSC-H\",center='density',widthScale=4, heightScale=4, vI=no_clutter, plot=False)"
   ]
  },
  {
   "cell_type": "code",
   "execution_count": 7,
   "metadata": {},
   "outputs": [],
   "source": [
    "fcs.update(ag.AGgate(singlets, fcs.full_index()),\"singlets\")"
   ]
  },
  {
   "cell_type": "code",
   "execution_count": 20,
   "metadata": {
    "scrolled": true
   },
   "outputs": [
    {
     "name": "stdout",
     "output_type": "stream",
     "text": [
      "Gating report for B cells_A11_A11_033 (500000 total events)\n",
      "1 gate(s):\n",
      "singlets (481258 events)\n",
      "\n"
     ]
    }
   ],
   "source": [
    "fcs.report()"
   ]
  }
 ],
 "metadata": {
  "kernelspec": {
   "display_name": "Python 3 (Spyder)",
   "language": "python3",
   "name": "python3"
  },
  "language_info": {
   "codemirror_mode": {
    "name": "ipython",
    "version": 3
   },
   "file_extension": ".py",
   "mimetype": "text/x-python",
   "name": "python",
   "nbconvert_exporter": "python",
   "pygments_lexer": "ipython3",
   "version": "3.6.3"
  }
 },
 "nbformat": 4,
 "nbformat_minor": 2
}
