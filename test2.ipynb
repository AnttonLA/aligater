{
 "cells": [
  {
   "cell_type": "code",
   "execution_count": 1,
   "metadata": {},
   "outputs": [],
   "source": [
    "%load_ext autoreload\n",
    "%autoreload 2"
   ]
  },
  {
   "cell_type": "code",
   "execution_count": 2,
   "metadata": {},
   "outputs": [],
   "source": [
    "import aligater as ag"
   ]
  },
  {
   "cell_type": "code",
   "execution_count": 3,
   "metadata": {},
   "outputs": [
    {
     "name": "stderr",
     "output_type": "stream",
     "text": [
      "Collected 12 files, 0 files did not pass filter(s) and mask(s).\n"
     ]
    }
   ],
   "source": [
    "fcsList=ag.collectFiles(\"/media/ludvig/Project_Storage/gaim panel/\")"
   ]
  },
  {
   "cell_type": "code",
   "execution_count": 5,
   "metadata": {},
   "outputs": [
    {
     "name": "stderr",
     "output_type": "stream",
     "text": [
      "Opening file A1 Negative Control from folder /Project_Storage/gaim panel\n",
      "Loaded dataset with 65769 events.\n",
      "Marker labels: FSC 488/10-A FSC 488/10-W FSC 405/10 (spd)-H FSC 405/10 (spd)-A FSC 405/10 (spd)-W SSC 488/10-H SSC 488/10-A SSC 488/10-W (BB) 515-A PerCP-Cy5.5-A PE-Cy7-A PE (R-phycoerythrin)-A  (BV) 421-A  (BV) 510-A APC-Cy7-A APC (Allophycocyanin)-A \n"
     ]
    }
   ],
   "source": [
    "fcs=ag.loadFCS(fcsList[0], return_type='agsample', compensate=False)"
   ]
  },
  {
   "cell_type": "code",
   "execution_count": 7,
   "metadata": {},
   "outputs": [
    {
     "data": {
      "text/plain": [
       "(<matplotlib.figure.Figure at 0x7fbc04f75f98>,\n",
       " <matplotlib.axes._subplots.AxesSubplot at 0x7fbc04f75940>)"
      ]
     },
     "execution_count": 7,
     "metadata": {},
     "output_type": "execute_result"
    },
    {
     "data": {
      "text/plain": [
       "<matplotlib.figure.Figure at 0x7fbbfd3bdb70>"
      ]
     },
     "metadata": {},
     "output_type": "display_data"
    },
    {
     "data": {
      "image/png": "[encoded data removed]",
      "text/plain": [
       "<matplotlib.figure.Figure at 0x7fbc04f75f98>"
      ]
     },
     "metadata": {},
     "output_type": "display_data"
    }
   ],
   "source": [
    "ag.plotHeatmap(fcs(),\"FSC 488/10-A\",\"FSC 488/10-W\",scale='logish')"
   ]
  },
  {
   "cell_type": "code",
   "execution_count": 4,
   "metadata": {},
   "outputs": [
    {
     "name": "stderr",
     "output_type": "stream",
     "text": [
      "After gating, 499919 out of 500000 events remain.\n"
     ]
    }
   ],
   "source": [
    "no_clutter=ag.gateThreshold(fcs(),\"FSC-A\", \"FSC-H\",thresh=260000, orientation='horisontal',population=\"lower\", plot=False)"
   ]
  },
  {
   "cell_type": "code",
   "execution_count": 5,
   "metadata": {},
   "outputs": [
    {
     "name": "stderr",
     "output_type": "stream",
     "text": [
      "After gating, 481258 out of 499919 events remain.\n"
     ]
    }
   ],
   "source": [
    "singlets=ag.gatePC(fcs(),\"FSC-A\", \"FSC-H\",center='density',widthScale=4, heightScale=4, vI=no_clutter, plot=False)"
   ]
  },
  {
   "cell_type": "code",
   "execution_count": 6,
   "metadata": {},
   "outputs": [],
   "source": [
    "fcs.update(ag.AGgate(singlets, fcs.full_index()),\"singlets\",\"total\")"
   ]
  },
  {
   "cell_type": "code",
   "execution_count": 7,
   "metadata": {
    "scrolled": true
   },
   "outputs": [
    {
     "name": "stdout",
     "output_type": "stream",
     "text": [
      "Gating report for B cells_A11_A11_033 (500000 total events)\n",
      "1 gate(s):\n",
      "singlets (481258 events)\n",
      "\n"
     ]
    }
   ],
   "source": [
    "fcs.report()"
   ]
  },
  {
   "cell_type": "code",
   "execution_count": 8,
   "metadata": {},
   "outputs": [],
   "source": [
    "fcs.printStats(\"/media/ludvig/Project_Storage/GAIM/test_out.txt\")"
   ]
  }
 ],
 "metadata": {
  "kernelspec": {
   "display_name": "Python 3 (Spyder)",
   "language": "python3",
   "name": "python3"
  },
  "language_info": {
   "codemirror_mode": {
    "name": "ipython",
    "version": 3
   },
   "file_extension": ".py",
   "mimetype": "text/x-python",
   "name": "python",
   "nbconvert_exporter": "python",
   "pygments_lexer": "ipython3",
   "version": "3.6.3"
  }
 },
 "nbformat": 4,
 "nbformat_minor": 2
}
